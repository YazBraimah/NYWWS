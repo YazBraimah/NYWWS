{
 "cells": [
  {
   "cell_type": "code",
   "execution_count": 1,
   "id": "8f6d24d9-81b6-4921-8630-99ae8a07ceef",
   "metadata": {
    "tags": []
   },
   "outputs": [],
   "source": [
    "import datetime\n",
    "\n",
    "import numpy as np\n",
    "import pandas as pd\n",
    "import Levenshtein\n",
    "\n",
    "from tqdm.notebook import tqdm"
   ]
  },
  {
   "cell_type": "code",
   "execution_count": 2,
   "id": "5d6977ec-389b-40b2-b300-3069c665ae75",
   "metadata": {
    "tags": []
   },
   "outputs": [],
   "source": [
    "file_info_path = \"../output/sample_info/file_existence.tsv\"\n",
    "concentration_path = \"../data/sample_metadata/nys-wws-sars2-concentration.csv\""
   ]
  },
  {
   "cell_type": "code",
   "execution_count": 3,
   "id": "fdc12aa7-4a53-4a78-a9c4-a99b5e6670aa",
   "metadata": {
    "tags": []
   },
   "outputs": [],
   "source": [
    "file_info = pd.read_table(file_info_path)\n",
    "concentration = pd.read_table(concentration_path)"
   ]
  },
  {
   "cell_type": "code",
   "execution_count": 4,
   "id": "b0168911-bbdc-4186-a6ef-2545844b75e6",
   "metadata": {
    "tags": []
   },
   "outputs": [],
   "source": [
    "bams_without_conc = file_info.loc[\n",
    "    np.isin(file_info.sample_present, (\"bam_without_concentration\", \"unexpected_bam_name\")), \n",
    "    \"sample_id\"\n",
    "]\n",
    "conc_without_bams = file_info.loc[file_info.sample_present == \"concentration_without_bam\", \"sample_id\"]"
   ]
  },
  {
   "cell_type": "code",
   "execution_count": 5,
   "id": "7d8275cb-4fa0-4f86-9e87-83790d995458",
   "metadata": {
    "tags": []
   },
   "outputs": [],
   "source": [
    "def same_site(bam1, bam2):\n",
    "    return bam1[8:19] == bam2[8:19]\n",
    "\n",
    "def close_date(bam1, bam2):\n",
    "    date1 = datetime.date.fromisoformat(bam1[:8])\n",
    "    date2 = datetime.date.fromisoformat(bam2[:8])\n",
    "    return abs(date2 - date1) <= datetime.timedelta(days=3)"
   ]
  },
  {
   "cell_type": "code",
   "execution_count": 6,
   "id": "b6729f0f-2e3f-4f10-b5f4-b1e53e56fdc2",
   "metadata": {
    "tags": []
   },
   "outputs": [],
   "source": [
    "records = []\n",
    "\n",
    "for focal_bam in bams_without_conc:\n",
    "    for bam in conc_without_bams:\n",
    "        if (same_site(focal_bam, bam) and close_date(focal_bam, bam)):\n",
    "            records.append((focal_bam, bam, \"close date\"))\n",
    "        elif Levenshtein.distance(focal_bam, bam) == 1:\n",
    "            records.append((focal_bam, bam, \"possible typo\"))"
   ]
  },
  {
   "cell_type": "code",
   "execution_count": 7,
   "id": "895b15b4-ccc8-4122-a5fc-db74dcb496fe",
   "metadata": {
    "tags": []
   },
   "outputs": [],
   "source": [
    "df = pd.DataFrame.from_records(records, columns=[\"bam_file\", \"concentration_entry\", \"reason\"])\n",
    "df.to_csv(\"bams-concentration-candidates.tsv\", sep=\"\\t\", index=False)"
   ]
  },
  {
   "cell_type": "code",
   "execution_count": null,
   "id": "d5f19e53-7e00-43d8-8eb6-449de42b988b",
   "metadata": {},
   "outputs": [],
   "source": []
  }
 ],
 "metadata": {
  "kernelspec": {
   "display_name": "Python 3 (ipykernel)",
   "language": "python",
   "name": "python3"
  },
  "language_info": {
   "codemirror_mode": {
    "name": "ipython",
    "version": 3
   },
   "file_extension": ".py",
   "mimetype": "text/x-python",
   "name": "python",
   "nbconvert_exporter": "python",
   "pygments_lexer": "ipython3",
   "version": "3.11.1"
  }
 },
 "nbformat": 4,
 "nbformat_minor": 5
}
